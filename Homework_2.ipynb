{
 "cells": [
  {
   "cell_type": "code",
   "execution_count": 1,
   "id": "6d642637-7539-4771-b2b0-7660c84b1925",
   "metadata": {},
   "outputs": [],
   "source": [
    "import numpy as np \n",
    "import matplotlib.pyplot as plt \n",
    "import pandas as pd\n",
    "import warnings\n",
    "warnings.filterwarnings('ignore')\n",
    "import seaborn as sns"
   ]
  },
  {
   "cell_type": "code",
   "execution_count": 2,
   "id": "4ff6c720-aa8c-471c-9816-8db194a5629c",
   "metadata": {},
   "outputs": [],
   "source": [
    "dataset = pd.read_csv('diabetes.csv')\n",
    "X = dataset.iloc[:,[0,1,2,3,4,5,6,7]].values\n",
    "Y = dataset.iloc[:,[8]].values"
   ]
  },
  {
   "cell_type": "code",
   "execution_count": 3,
   "id": "464100b2-b24c-43a0-89b7-dfb0d30b2787",
   "metadata": {},
   "outputs": [],
   "source": [
    "from sklearn.model_selection import train_test_split\n",
    "np.random.seed(0)\n",
    "\n",
    "X_train, X_test, Y_train, Y_test = train_test_split(X, Y, test_size = 0.20, random_state = 0)"
   ]
  },
  {
   "cell_type": "code",
   "execution_count": 4,
   "id": "71097f1b-8a6b-4e24-9858-1c48551de971",
   "metadata": {},
   "outputs": [],
   "source": [
    "from sklearn.preprocessing import StandardScaler\n",
    "scaler = StandardScaler()\n",
    "X_train = scaler.fit_transform(X_train)\n",
    "X_test = scaler.transform(X_test)"
   ]
  },
  {
   "cell_type": "code",
   "execution_count": null,
   "id": "23585d90-b6fd-4685-aa74-5b25dfb93d54",
   "metadata": {},
   "outputs": [],
   "source": [
    "#Problem 1\n",
    "from sklearn.linear_model import LogisticRegression \n",
    "classifier = LogisticRegression(random_state=0) \n",
    "classifier.fit(X_train, Y_train)\n",
    "Y_pred = classifier.predict(X_test)\n",
    "\n",
    "from sklearn.metrics import confusion_matrix\n",
    "\n",
    "cm = confusion_matrix(Y_test, Y_pred)\n",
    "print(cm)\n",
    "\n",
    "from sklearn import metrics as mt\n",
    "print(\"Accuracy:\",mt.accuracy_score(Y_test, Y_pred)) \n",
    "print(\"Precision:\",mt.precision_score(Y_test, Y_pred)) \n",
    "print(\"Recall:\",mt.recall_score(Y_test, Y_pred))"
   ]
  },
  {
   "cell_type": "code",
   "execution_count": 6,
   "id": "f68dda9e-f65d-46af-a841-cb3b504f6f26",
   "metadata": {},
   "outputs": [
    {
     "data": {
      "text/plain": [
       "Text(0.5, 257.44, 'Predicted label')"
      ]
     },
     "execution_count": 6,
     "metadata": {},
     "output_type": "execute_result"
    },
    {
     "data": {
      "image/png": "[encoded data removed]",
      "text/plain": [
       "<Figure size 432x288 with 2 Axes>"
      ]
     },
     "metadata": {
      "needs_background": "light"
     },
     "output_type": "display_data"
    }
   ],
   "source": [
    "#Output a visual representation of the confusion matirx.\n",
    "class_names=[0,1] # name  of classes \n",
    "fig, ax = plt.subplots() \n",
    "tick_marks = np.arange(len(class_names)) \n",
    "plt.xticks(tick_marks, class_names) \n",
    "plt.yticks(tick_marks, class_names) \n",
    "# create heatmap \n",
    "sns.heatmap(pd.DataFrame(cm), annot=True, cmap=\"YlGnBu\" ,fmt='g') \n",
    "ax.xaxis.set_label_position(\"top\") \n",
    "plt.tight_layout() \n",
    "plt.title('Confusion matrix for Logistic Regression', y=1.1) \n",
    "plt.ylabel('Actual label') \n",
    "plt.xlabel('Predicted label')"
   ]
  },
  {
   "cell_type": "code",
   "execution_count": 8,
   "id": "2cea7986-b0ca-4b3a-8b4d-885e9bf22f02",
   "metadata": {},
   "outputs": [
    {
     "name": "stdout",
     "output_type": "stream",
     "text": [
      "[[93 14]\n",
      " [18 29]]\n",
      "Accuracy: 0.7922077922077922\n",
      "Precision: 0.6744186046511628\n",
      "Recall: 0.6170212765957447\n"
     ]
    }
   ],
   "source": [
    "#Problem 2\n",
    "from sklearn.naive_bayes import GaussianNB\n",
    "classifier = GaussianNB()\n",
    "classifier.fit(X_train, Y_train)\n",
    "Y_pred  =  classifier.predict(X_test)\n",
    "\n",
    "cm2 = confusion_matrix(Y_test, Y_pred)\n",
    "print(cm2)\n",
    "print(\"Accuracy:\",mt.accuracy_score(Y_test, Y_pred)) \n",
    "print(\"Precision:\",mt.precision_score(Y_test, Y_pred)) \n",
    "print(\"Recall:\",mt.recall_score(Y_test, Y_pred))"
   ]
  },
  {
   "cell_type": "code",
   "execution_count": 9,
   "id": "ec382bf5-d50f-4bed-bee4-b3fc5d147600",
   "metadata": {},
   "outputs": [
    {
     "data": {
      "text/plain": [
       "Text(0.5, 257.44, 'Predicted label')"
      ]
     },
     "execution_count": 9,
     "metadata": {},
     "output_type": "execute_result"
    },
    {
     "data": {
      "image/png": "[encoded data removed]",
      "text/plain": [
       "<Figure size 432x288 with 2 Axes>"
      ]
     },
     "metadata": {
      "needs_background": "light"
     },
     "output_type": "display_data"
    }
   ],
   "source": [
    "#Output a visual representation of the confusion matirx.\n",
    "class_names=[0,1] # name  of classes \n",
    "fig, ax = plt.subplots() \n",
    "tick_marks = np.arange(len(class_names)) \n",
    "plt.xticks(tick_marks, class_names) \n",
    "plt.yticks(tick_marks, class_names) \n",
    "# create heatmap \n",
    "sns.heatmap(pd.DataFrame(cm2), annot=True, cmap=\"YlGnBu\" ,fmt='g') \n",
    "ax.xaxis.set_label_position(\"top\") \n",
    "plt.tight_layout() \n",
    "plt.title('Confusion matrix for Naive Bayes', y=1.1) \n",
    "plt.ylabel('Actual label') \n",
    "plt.xlabel('Predicted label')"
   ]
  },
  {
   "cell_type": "code",
   "execution_count": 12,
   "id": "9243de3f-c03d-4751-827a-05484e01e92e",
   "metadata": {},
   "outputs": [
    {
     "name": "stdout",
     "output_type": "stream",
     "text": [
      "Accuracy: 0.7643493761140819\n",
      "Precision: 0.7124810149200393\n",
      "Recall: 0.5455230199569823\n"
     ]
    }
   ],
   "source": [
    "#Problem 3\n",
    "from numpy import mean\n",
    "from sklearn.model_selection import KFold\n",
    "from sklearn.model_selection import cross_validate\n",
    "from sklearn.metrics import make_scorer, accuracy_score, precision_score, recall_score\n",
    "\n",
    "# 5 folds\n",
    "kfold = KFold(n_splits=5, random_state=1, shuffle=True)\n",
    "model = LogisticRegression(random_state=0)\n",
    "scoring = {'accuracy' : make_scorer(accuracy_score), \n",
    "           'precision' : make_scorer(precision_score),\n",
    "           'recall' : make_scorer(recall_score)}\n",
    "\n",
    "results = cross_validate(model, X, Y, scoring=scoring, cv=kfold, n_jobs=-1)\n",
    "\n",
    "print(\"Accuracy:\",mean(results['test_accuracy'])) \n",
    "print(\"Precision:\",mean(results['test_precision'])) \n",
    "print(\"Recall:\",mean(results['test_recall']))"
   ]
  },
  {
   "cell_type": "code",
   "execution_count": 13,
   "id": "3f2d1b6b-148d-4fbe-b2bc-7f918a7ea067",
   "metadata": {},
   "outputs": [
    {
     "name": "stdout",
     "output_type": "stream",
     "text": [
      "Accuracy: 0.7733595352016405\n",
      "Precision: 0.7302409000490842\n",
      "Recall: 0.5542750633230393\n"
     ]
    }
   ],
   "source": [
    "#10 folds\n",
    "kfold = KFold(n_splits=10, random_state=1, shuffle=True)\n",
    "model = LogisticRegression(random_state=0)\n",
    "scoring = {'accuracy' : make_scorer(accuracy_score), \n",
    "           'precision' : make_scorer(precision_score),\n",
    "           'recall' : make_scorer(recall_score)}\n",
    "\n",
    "results = cross_validate(model, X, Y, scoring=scoring, cv=kfold, n_jobs=-1)\n",
    "\n",
    "print(\"Accuracy:\",mean(results['test_accuracy'])) \n",
    "print(\"Precision:\",mean(results['test_precision'])) \n",
    "print(\"Recall:\",mean(results['test_recall']))"
   ]
  },
  {
   "cell_type": "code",
   "execution_count": 14,
   "id": "83b357d6-c2f8-4114-a781-9c4fc8db3abc",
   "metadata": {},
   "outputs": [
    {
     "name": "stdout",
     "output_type": "stream",
     "text": [
      "Accuracy: 0.7733595352016405\n",
      "Precision: 0.7302409000490842\n",
      "Recall: 0.5542750633230393\n"
     ]
    }
   ],
   "source": [
    "#Problem 4\n",
    "\n",
    "# 5 folds\n",
    "kfold = KFold(n_splits=5, random_state=1, shuffle=True)\n",
    "model = GaussianNB()\n",
    "scoring = {'accuracy' : make_scorer(accuracy_score), \n",
    "           'precision' : make_scorer(precision_score),\n",
    "           'recall' : make_scorer(recall_score)}\n",
    "\n",
    "resutls = cross_validate(model, X, Y, scoring=scoring, cv=kfold, n_jobs=-1)\n",
    "\n",
    "print(\"Accuracy:\",mean(results['test_accuracy'])) \n",
    "print(\"Precision:\",mean(results['test_precision'])) \n",
    "print(\"Recall:\",mean(results['test_recall']))"
   ]
  },
  {
   "cell_type": "code",
   "execution_count": 15,
   "id": "334b19fc-9a52-45a5-ad26-7b0cbe92788e",
   "metadata": {},
   "outputs": [
    {
     "name": "stdout",
     "output_type": "stream",
     "text": [
      "Accuracy: 0.7564764183185236\n",
      "Precision: 0.6652269630530501\n",
      "Recall: 0.600860189563338\n"
     ]
    }
   ],
   "source": [
    "#10 folds\n",
    "kfold = KFold(n_splits=10, random_state=1, shuffle=True)\n",
    "model = GaussianNB()\n",
    "scoring = {'accuracy' : make_scorer(accuracy_score), \n",
    "           'precision' : make_scorer(precision_score),\n",
    "           'recall' : make_scorer(recall_score)}\n",
    "\n",
    "results = cross_validate(model, X, Y, scoring=scoring, cv=kfold, n_jobs=-1)\n",
    "\n",
    "print(\"Accuracy:\",mean(results['test_accuracy'])) \n",
    "print(\"Precision:\",mean(results['test_precision'])) \n",
    "print(\"Recall:\",mean(results['test_recall']))"
   ]
  },
  {
   "cell_type": "code",
   "execution_count": null,
   "id": "18da1bcc-7e27-4122-9a35-ade9e0a777ce",
   "metadata": {},
   "outputs": [],
   "source": []
  }
 ],
 "metadata": {
  "kernelspec": {
   "display_name": "Python 3",
   "language": "python",
   "name": "python3"
  },
  "language_info": {
   "codemirror_mode": {
    "name": "ipython",
    "version": 3
   },
   "file_extension": ".py",
   "mimetype": "text/x-python",
   "name": "python",
   "nbconvert_exporter": "python",
   "pygments_lexer": "ipython3",
   "version": "3.8.8"
  }
 },
 "nbformat": 4,
 "nbformat_minor": 5
}
