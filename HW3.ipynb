{
 "cells": [
  {
   "cell_type": "code",
   "execution_count": 1,
   "id": "bfd83ca6-5bf3-40a1-b27b-de84e2cd625c",
   "metadata": {},
   "outputs": [
    {
     "data": {
      "text/plain": [
       "(569, 30)"
      ]
     },
     "execution_count": 1,
     "metadata": {},
     "output_type": "execute_result"
    }
   ],
   "source": [
    "import numpy as np \n",
    "import matplotlib.pyplot as plt \n",
    "import pandas as pd\n",
    "import sys\n",
    "from sklearn.datasets import load_breast_cancer\n",
    "\n",
    "import warnings\n",
    "warnings.filterwarnings('ignore')\n",
    "\n",
    "breast = load_breast_cancer() \n",
    "breast_data = breast.data\n",
    "breast_data.shape"
   ]
  },
  {
   "cell_type": "code",
   "execution_count": 2,
   "id": "7938ed9d-bd49-45dc-9145-b3a61459b6f1",
   "metadata": {},
   "outputs": [],
   "source": [
    "breast_input = pd.DataFrame(breast_data)\n",
    "\n",
    "breast_labels = breast.target\n",
    "labels = np.reshape(breast_labels,(569,1))\n",
    "final_breast_data = np.concatenate([breast_data,labels],axis=1) \n",
    "\n",
    "breast_dataset = pd.DataFrame(final_breast_data)\n",
    "\n",
    "features = breast.feature_names \n",
    "\n",
    "features_labels = np.append(features,'label') \n",
    "breast_dataset.columns = features_labels "
   ]
  },
  {
   "cell_type": "code",
   "execution_count": 3,
   "id": "bbfdfd0f-9cf6-482e-b944-deafdfcf3d42",
   "metadata": {},
   "outputs": [],
   "source": [
    "breast_dataset['label'].replace(0, 'Benign',inplace=True) \n",
    "breast_dataset['label'].replace(1, 'Malignant',inplace=True)\n"
   ]
  },
  {
   "cell_type": "code",
   "execution_count": 4,
   "id": "20ae3652-93c2-4a85-8329-3ec79db66d07",
   "metadata": {},
   "outputs": [],
   "source": [
    "from sklearn.model_selection import train_test_split \n",
    "X_train, X_test, Y_train, Y_test = train_test_split(breast_input, labels, test_size = 0.20, random_state = 0)\n",
    "\n",
    "from sklearn.preprocessing import StandardScaler \n",
    "sc_X = StandardScaler() \n",
    "X_train = sc_X.fit_transform(X_train) \n",
    "X_test = sc_X.transform(X_test)"
   ]
  },
  {
   "cell_type": "code",
   "execution_count": 5,
   "id": "7f207474-dcf2-4687-832b-51cbe3089cd1",
   "metadata": {},
   "outputs": [
    {
     "name": "stdout",
     "output_type": "stream",
     "text": [
      "Accuracy: 0.9649122807017544\n",
      "Precision: 0.9701492537313433\n",
      "Recall: 0.9701492537313433\n"
     ]
    },
    {
     "data": {
      "text/plain": [
       "Text(0.5, 257.44, 'Predicted label')"
      ]
     },
     "execution_count": 5,
     "metadata": {},
     "output_type": "execute_result"
    },
    {
     "data": {
      "image/png": "[encoded data removed]",
      "text/plain": [
       "<Figure size 432x288 with 2 Axes>"
      ]
     },
     "metadata": {
      "needs_background": "light"
     },
     "output_type": "display_data"
    }
   ],
   "source": [
    "#Problem 1\n",
    "\n",
    "from sklearn.linear_model import LogisticRegression \n",
    "classifier = LogisticRegression(random_state=0) \n",
    "classifier.fit(X_train, Y_train)\n",
    "Y_pred = classifier.predict(X_test)\n",
    "\n",
    "from sklearn.metrics import confusion_matrix \n",
    "cnf_matrix = confusion_matrix(Y_test, Y_pred)\n",
    "\n",
    "from sklearn import metrics \n",
    "print(\"Accuracy:\",metrics.accuracy_score(Y_test, Y_pred)) \n",
    "print(\"Precision:\",metrics.precision_score(Y_test, Y_pred)) \n",
    "print(\"Recall:\",metrics.recall_score(Y_test, Y_pred)) \n",
    "\n",
    "import seaborn as sns \n",
    "class_names=[0,1] # name  of classes \n",
    "fig, ax = plt.subplots() \n",
    "tick_marks = np.arange(len(class_names)) \n",
    "plt.xticks(tick_marks, class_names) \n",
    "plt.yticks(tick_marks, class_names) \n",
    "# create heatmap \n",
    "sns.heatmap(pd.DataFrame(cnf_matrix), annot=True, cmap=\"YlGnBu\" ,fmt='g') \n",
    "ax.xaxis.set_label_position(\"top\") \n",
    "plt.tight_layout() \n",
    "plt.title('Confusion matrix', y=1.1) \n",
    "plt.ylabel('Actual label') \n",
    "plt.xlabel('Predicted label') "
   ]
  },
  {
   "cell_type": "code",
   "execution_count": 18,
   "id": "53c78022-1dfc-4d52-9c85-be7274333357",
   "metadata": {},
   "outputs": [
    {
     "name": "stdout",
     "output_type": "stream",
     "text": [
      "PCA at K=30\n",
      "Accuracy: 0.9473684210526315\n",
      "Precision: 0.9841269841269841\n",
      "Recall: 0.9253731343283582\n"
     ]
    }
   ],
   "source": [
    "#Problem 2\n",
    "\n",
    "X = breast_input\n",
    "Y = breast_labels\n",
    "\n",
    "\n",
    "from sklearn.decomposition import PCA\n",
    "for n in range(1, 31):\n",
    "    pca = PCA(n_components=n) \n",
    "    principalComponents = pca.fit_transform(X)\n",
    "\n",
    "X_train, X_test, Y_train, Y_test = train_test_split(principalComponents, Y, test_size = 0.20, random_state = 0)\n",
    "classifier = LogisticRegression(random_state=0) \n",
    "classifier.fit(X_train, Y_train) \n",
    "Y_pred = classifier.predict(X_test)\n",
    "    \n",
    "from sklearn.metrics import confusion_matrix \n",
    "cnf_matrix = confusion_matrix(Y_test, Y_pred)\n",
    "    \n",
    "from sklearn import metrics \n",
    "print(\"PCA at K=%i\" %n)\n",
    "print(\"Accuracy:\",metrics.accuracy_score(Y_test, Y_pred)) \n",
    "print(\"Precision:\",metrics.precision_score(Y_test, Y_pred)) \n",
    "print(\"Recall:\",metrics.recall_score(Y_test, Y_pred))"
   ]
  },
  {
   "cell_type": "code",
   "execution_count": 12,
   "id": "70bda7b7-5349-4b14-862e-1eb259ca655a",
   "metadata": {},
   "outputs": [
    {
     "name": "stdout",
     "output_type": "stream",
     "text": [
      "[[12 32]\n",
      " [26 44]]\n",
      "Accuracy: 0.49122807017543857\n",
      "Precision: 0.5789473684210527\n",
      "Recall: 0.6285714285714286\n"
     ]
    },
    {
     "data": {
      "text/plain": [
       "Text(0.5, 257.44, 'Predicted label')"
      ]
     },
     "execution_count": 12,
     "metadata": {},
     "output_type": "execute_result"
    },
    {
     "data": {
      "image/png": "[encoded data removed]",
      "text/plain": [
       "<Figure size 432x288 with 2 Axes>"
      ]
     },
     "metadata": {
      "needs_background": "light"
     },
     "output_type": "display_data"
    }
   ],
   "source": [
    "#Problem 3\n",
    "\n",
    "from sklearn.discriminant_analysis import LinearDiscriminantAnalysis\n",
    "X=breast_input\n",
    "y=breast_labels\n",
    "lda = LinearDiscriminantAnalysis(n_components=1) \n",
    "lda_t = lda.fit_transform(X,y)\n",
    "\n",
    "X_train,X_test,Y_train,Y_test = train_test_split(X,y,test_size=0.2) \n",
    "lda.fit(X_train,Y_train) \n",
    "y_pred = lda.predict(X_test) \n",
    "\n",
    "from sklearn.metrics import confusion_matrix \n",
    "cnf_matrix = confusion_matrix(Y_test, Y_pred) \n",
    "print(cnf_matrix)\n",
    "from sklearn import metrics \n",
    "print(\"Accuracy:\",metrics.accuracy_score(Y_test, Y_pred)) \n",
    "print(\"Precision:\",metrics.precision_score(Y_test, Y_pred)) \n",
    "print(\"Recall:\",metrics.recall_score(Y_test, Y_pred)) \n",
    "\n",
    "\n",
    "import seaborn as sns \n",
    "class_names=[0,1] # name  of classes \n",
    "fig, ax = plt.subplots() \n",
    "tick_marks = np.arange(len(class_names)) \n",
    "plt.xticks(tick_marks, class_names) \n",
    "plt.yticks(tick_marks, class_names) \n",
    "sns.heatmap(pd.DataFrame(cnf_matrix), annot=True, cmap=\"YlGnBu\" ,fmt='g') \n",
    "ax.xaxis.set_label_position(\"top\") \n",
    "plt.tight_layout() \n",
    "plt.title('LDA Confusion matrix', y=1.1) \n",
    "plt.ylabel('Actual label') \n",
    "plt.xlabel('Predicted label')"
   ]
  },
  {
   "cell_type": "code",
   "execution_count": 11,
   "id": "dea053e0-fbbe-4117-8cbf-51c4e211163e",
   "metadata": {},
   "outputs": [
    {
     "name": "stdout",
     "output_type": "stream",
     "text": [
      "[[38  2]\n",
      " [ 0 74]]\n",
      "Accuracy: 0.9824561403508771\n",
      "Precision: 0.9736842105263158\n",
      "Recall: 1.0\n"
     ]
    },
    {
     "data": {
      "text/plain": [
       "Text(0.5, 257.44, 'Predicted label')"
      ]
     },
     "execution_count": 11,
     "metadata": {},
     "output_type": "execute_result"
    },
    {
     "data": {
      "image/png": "[encoded data removed]",
      "text/plain": [
       "<Figure size 432x288 with 2 Axes>"
      ]
     },
     "metadata": {
      "needs_background": "light"
     },
     "output_type": "display_data"
    }
   ],
   "source": [
    "#Problem 4\n",
    "\n",
    "classifier = LogisticRegression(random_state=0)\n",
    "\n",
    "X=breast_input\n",
    "y=breast_labels\n",
    "lda = LinearDiscriminantAnalysis(n_components=1) \n",
    "lda_t = lda.fit_transform(X,y)\n",
    "\n",
    "classifier.fit(lda_t,y)\n",
    "\n",
    "X_train,X_test,Y_train,Y_test = train_test_split(lda_t,y,test_size=0.2) \n",
    "\n",
    "Y_pred = classifier.predict(X_test) \n",
    "\n",
    "from sklearn.metrics import confusion_matrix \n",
    "cnf_matrix = confusion_matrix(Y_test, Y_pred) \n",
    "print(cnf_matrix)\n",
    "from sklearn import metrics \n",
    "print(\"Accuracy:\",metrics.accuracy_score(Y_test, Y_pred)) \n",
    "print(\"Precision:\",metrics.precision_score(Y_test, Y_pred)) \n",
    "print(\"Recall:\",metrics.recall_score(Y_test, Y_pred)) \n",
    "\n",
    "\n",
    "import seaborn as sns \n",
    "class_names=[0,1] # name  of classes \n",
    "fig, ax = plt.subplots() \n",
    "tick_marks = np.arange(len(class_names)) \n",
    "plt.xticks(tick_marks, class_names) \n",
    "plt.yticks(tick_marks, class_names) \n",
    "sns.heatmap(pd.DataFrame(cnf_matrix), annot=True, cmap=\"YlGnBu\" ,fmt='g') \n",
    "ax.xaxis.set_label_position(\"top\") \n",
    "plt.tight_layout() \n",
    "plt.title('LDA Confusion matrix LR', y=1.1) \n",
    "plt.ylabel('Actual label') \n",
    "plt.xlabel('Predicted label')"
   ]
  },
  {
   "cell_type": "code",
   "execution_count": null,
   "id": "2b28b18d-e4d8-458c-b999-ce46fbc235ec",
   "metadata": {},
   "outputs": [],
   "source": []
  }
 ],
 "metadata": {
  "kernelspec": {
   "display_name": "Python 3",
   "language": "python",
   "name": "python3"
  },
  "language_info": {
   "codemirror_mode": {
    "name": "ipython",
    "version": 3
   },
   "file_extension": ".py",
   "mimetype": "text/x-python",
   "name": "python",
   "nbconvert_exporter": "python",
   "pygments_lexer": "ipython3",
   "version": "3.8.8"
  }
 },
 "nbformat": 4,
 "nbformat_minor": 5
}
